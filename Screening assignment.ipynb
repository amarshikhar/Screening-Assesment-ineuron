{
 "cells": [
  {
   "cell_type": "code",
   "execution_count": 1,
   "id": "0d7d59a0",
   "metadata": {},
   "outputs": [
    {
     "data": {
      "text/plain": [
       "('This is a placement assignment.', 'This is a screening assignment.')"
      ]
     },
     "execution_count": 1,
     "metadata": {},
     "output_type": "execute_result"
    }
   ],
   "source": [
    "def afile(filename):\n",
    "    try:\n",
    "        f=open(filename)\n",
    "        content1=f.read()\n",
    "        g=content1.replace('placement', 'screening')\n",
    "        f.close()\n",
    "        h=open(filename,\"w+\")\n",
    "        h.write(g)\n",
    "        h.seek(0)\n",
    "        content2=h.read()\n",
    "        h.close()\n",
    "        return content1, content2\n",
    "    except Exception as e:\n",
    "        return e\n",
    "    \n",
    "afile(\"example.txt\")"
   ]
  },
  {
   "cell_type": "markdown",
   "id": "eb278b8e",
   "metadata": {},
   "source": [
    "## Abstract Class"
   ]
  },
  {
   "cell_type": "code",
   "execution_count": 2,
   "id": "8bdf363d",
   "metadata": {},
   "outputs": [
    {
     "name": "stdout",
     "output_type": "stream",
     "text": [
      "Can't instantiate abstract class TrainSet with abstract method info\n",
      "Vande Bharat Express is a recently launched, \n",
      "        fully air-conditioned, semi-high-speed, intercity day-train. \n",
      "Tejas Express trains are semi-high-speed, \n",
      "        air-conditioned, chair car trains boasting of several \n",
      "        onboard amenities, like LED TV with charging socket, \n",
      "        CCTV cameras, Wi-Fi, snack tables, coffee/tea vending machines, \n",
      "        celebrity chef menu, smoke/fire detection and extinguishing system, \n",
      "        sensor water taps, and bio-vacuum toilets, to mention a few.\n",
      "Duronto Express trains are a premium category, long-distance, \n",
      "        superfast trains that connect several state capitals and metro cities of India. \n",
      "Rajdhani Express trains connect the national capital, \n",
      "        New Delhi to various state capitals or the largest cities of several states.\n"
     ]
    }
   ],
   "source": [
    "from abc import ABC, abstractmethod\n",
    " \n",
    "class TrainSet(ABC):\n",
    " \n",
    "    @abstractmethod\n",
    "    def info(self):\n",
    "        pass\n",
    " \n",
    "class VandeBharatExpress(TrainSet):\n",
    " \n",
    "    # overriding abstract method\n",
    "    def info(self):\n",
    "        print(\"\"\"Vande Bharat Express is a recently launched, \n",
    "        fully air-conditioned, semi-high-speed, intercity day-train. \"\"\")\n",
    " \n",
    "class TejasExpress(TrainSet):\n",
    " \n",
    "    # overriding abstract method\n",
    "    def info(self):\n",
    "        print(\"\"\"Tejas Express trains are semi-high-speed, \n",
    "        air-conditioned, chair car trains boasting of several \n",
    "        onboard amenities, like LED TV with charging socket, \n",
    "        CCTV cameras, Wi-Fi, snack tables, coffee/tea vending machines, \n",
    "        celebrity chef menu, smoke/fire detection and extinguishing system, \n",
    "        sensor water taps, and bio-vacuum toilets, to mention a few.\"\"\")\n",
    " \n",
    "class DurontoExpress(TrainSet):\n",
    " \n",
    "    # overriding abstract method\n",
    "    def info(self):\n",
    "        print(\"\"\"Duronto Express trains are a premium category, long-distance, \n",
    "        superfast trains that connect several state capitals and metro cities of India. \"\"\")\n",
    " \n",
    "class RajdhaniExpress(TrainSet):\n",
    " \n",
    "    # overriding abstract method\n",
    "    def info(self):\n",
    "        print(\"\"\"Rajdhani Express trains connect the national capital, \n",
    "        New Delhi to various state capitals or the largest cities of several states.\"\"\")\n",
    "\n",
    "try:\n",
    "    r =TrainSet()\n",
    "    print(r.info)\n",
    "except Exception as err:\n",
    "    print (err)\n",
    "\n",
    "R = VandeBharatExpress()\n",
    "R.info()\n",
    " \n",
    "K = TejasExpress()\n",
    "K.info()\n",
    " \n",
    "R = DurontoExpress()\n",
    "R.info()\n",
    " \n",
    "K = RajdhaniExpress()\n",
    "K.info()\n",
    "\n",
    "# We can't instantiate an abstract class that has \n",
    "# abstract methods, but will be able to instantiate \n",
    "# a subclass that provides useful definitions of those methods:"
   ]
  },
  {
   "cell_type": "markdown",
   "id": "a11668e7",
   "metadata": {},
   "source": [
    "## Multiple Inheritance"
   ]
  },
  {
   "cell_type": "code",
   "execution_count": 3,
   "id": "8379251c",
   "metadata": {},
   "outputs": [
    {
     "name": "stdout",
     "output_type": "stream",
     "text": [
      "This belongs to class one.\n",
      "This belongs to class two.\n"
     ]
    }
   ],
   "source": [
    "class one:\n",
    "    def __init__(self):\n",
    "        pass\n",
    "    def myclass1(self):\n",
    "        return \"This belongs to class one.\"\n",
    "        \n",
    "class two:\n",
    "    def __init__(self):\n",
    "        pass\n",
    "    def myclass2(self):\n",
    "        return \"This belongs to class two.\"\n",
    "class three(one,two):\n",
    "    def __init__(self):\n",
    "        pass\n",
    "            \n",
    "o = three()\n",
    "print(o.myclass1())\n",
    "print(o.myclass2())\n",
    "# We are able to call myclass1 and myclass2 from one and two classes respectively \n",
    "# by using class three"
   ]
  },
  {
   "cell_type": "code",
   "execution_count": 4,
   "id": "f923ff1e",
   "metadata": {},
   "outputs": [],
   "source": [
    "class Animal:\n",
    "     def __init__(self):\n",
    "         print(\"Animal created\")\n",
    "     def whoAmI(self):\n",
    "         print(\"Animal\")\n",
    "     def eat(self):\n",
    "         print(\"Eating\")\n",
    "class Dog(Animal):\n",
    "     def __init__(self):\n",
    "         Animal.__init__(self)\n",
    "         print(\"Dog created\")\n",
    "     def whoAmI(self):\n",
    "         print(\"Dog\")\n",
    "     def bark(self):\n",
    "         print(\"Woof!\")"
   ]
  },
  {
   "cell_type": "code",
   "execution_count": 5,
   "id": "13541af9",
   "metadata": {},
   "outputs": [
    {
     "name": "stdout",
     "output_type": "stream",
     "text": [
      "Animal created\n",
      "Dog created\n"
     ]
    }
   ],
   "source": [
    "d = Dog()"
   ]
  },
  {
   "cell_type": "code",
   "execution_count": 6,
   "id": "349e6272",
   "metadata": {},
   "outputs": [
    {
     "name": "stdout",
     "output_type": "stream",
     "text": [
      "Dog\n"
     ]
    }
   ],
   "source": [
    "d.whoAmI()"
   ]
  },
  {
   "cell_type": "code",
   "execution_count": 7,
   "id": "a306552e",
   "metadata": {},
   "outputs": [
    {
     "name": "stdout",
     "output_type": "stream",
     "text": [
      "Eating\n"
     ]
    }
   ],
   "source": [
    "d.eat()"
   ]
  },
  {
   "cell_type": "code",
   "execution_count": 8,
   "id": "45b08998",
   "metadata": {},
   "outputs": [
    {
     "name": "stdout",
     "output_type": "stream",
     "text": [
      "Woof!\n"
     ]
    }
   ],
   "source": [
    "d.bark()"
   ]
  },
  {
   "cell_type": "markdown",
   "id": "295aee05",
   "metadata": {},
   "source": [
    "## Decorators"
   ]
  },
  {
   "cell_type": "markdown",
   "id": "4cf4a176",
   "metadata": {},
   "source": [
    "####### Decorators define reusable code blocks that you can apply to a callable object (functions, methods, classes, objects) to modify or extend its behaviour without modifying the object itself."
   ]
  },
  {
   "cell_type": "code",
   "execution_count": 9,
   "id": "a05e021b",
   "metadata": {},
   "outputs": [],
   "source": [
    "def deco(func):\n",
    "    def inner():\n",
    "        print('running inner()')\n",
    "    return inner# deco returns its inner function object.\n",
    "\n",
    "\n",
    "@deco# target is decorated by deco.\n",
    "def target():\n",
    "    print('running target()')\n"
   ]
  },
  {
   "cell_type": "code",
   "execution_count": 10,
   "id": "ddaa04bc",
   "metadata": {},
   "outputs": [
    {
     "name": "stdout",
     "output_type": "stream",
     "text": [
      "running inner()\n"
     ]
    }
   ],
   "source": [
    "target()# Invoking the decorated target actually runs inner."
   ]
  },
  {
   "cell_type": "code",
   "execution_count": 11,
   "id": "e9949f5b",
   "metadata": {},
   "outputs": [
    {
     "data": {
      "text/plain": [
       "<function __main__.deco.<locals>.inner()>"
      ]
     },
     "execution_count": 11,
     "metadata": {},
     "output_type": "execute_result"
    }
   ],
   "source": [
    "target# Inspection reveals that target is a now a reference to inner."
   ]
  }
 ],
 "metadata": {
  "kernelspec": {
   "display_name": "Python 3 (ipykernel)",
   "language": "python",
   "name": "python3"
  },
  "language_info": {
   "codemirror_mode": {
    "name": "ipython",
    "version": 3
   },
   "file_extension": ".py",
   "mimetype": "text/x-python",
   "name": "python",
   "nbconvert_exporter": "python",
   "pygments_lexer": "ipython3",
   "version": "3.9.7"
  }
 },
 "nbformat": 4,
 "nbformat_minor": 5
}
